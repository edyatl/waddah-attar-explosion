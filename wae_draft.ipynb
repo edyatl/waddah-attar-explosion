{
 "cells": [
  {
   "cell_type": "markdown",
   "id": "overhead-attack",
   "metadata": {},
   "source": [
    "## Waddah Attar Explosion V2 [SHK]"
   ]
  },
  {
   "cell_type": "markdown",
   "id": "subject-juvenile",
   "metadata": {},
   "source": [
    "<https://ru.tradingview.com/script/d9IjcYyS-Waddah-Attar-Explosion-V2-SHK/>"
   ]
  },
  {
   "cell_type": "markdown",
   "id": "labeled-flavor",
   "metadata": {},
   "source": [
    ">Developed by [@edyatl](https://github.com/edyatl) April 2023 <edyatl@yandex.ru>"
   ]
  },
  {
   "cell_type": "code",
   "execution_count": 1,
   "id": "incorporated-potential",
   "metadata": {},
   "outputs": [
    {
     "data": {
      "application/javascript": [
       "\n",
       "            setTimeout(function() {\n",
       "                var nbb_cell_id = 1;\n",
       "                var nbb_unformatted_code = \"# Load Jupyter extension for auto correction coding style based on Black Lib\\n%load_ext nb_black\";\n",
       "                var nbb_formatted_code = \"# Load Jupyter extension for auto correction coding style based on Black Lib\\n%load_ext nb_black\";\n",
       "                var nbb_cells = Jupyter.notebook.get_cells();\n",
       "                for (var i = 0; i < nbb_cells.length; ++i) {\n",
       "                    if (nbb_cells[i].input_prompt_number == nbb_cell_id) {\n",
       "                        if (nbb_cells[i].get_text() == nbb_unformatted_code) {\n",
       "                             nbb_cells[i].set_text(nbb_formatted_code);\n",
       "                        }\n",
       "                        break;\n",
       "                    }\n",
       "                }\n",
       "            }, 500);\n",
       "            "
      ],
      "text/plain": [
       "<IPython.core.display.Javascript object>"
      ]
     },
     "metadata": {},
     "output_type": "display_data"
    }
   ],
   "source": [
    "# Load Jupyter extension for auto correction coding style based on Black Lib\n",
    "%load_ext nb_black"
   ]
  },
  {
   "cell_type": "markdown",
   "id": "given-introduction",
   "metadata": {},
   "source": [
    "### Original Indicator code\n",
    "\n",
    "```python\n",
    "//\n",
    "// @author LazyBear \n",
    "// List of all my indicators: \n",
    "// https://docs.google.com/document/d/15AGCufJZ8CIUvwFJ9W-IKns88gkWOKBCvByMEvm5MLo/edit?usp=sharing\n",
    "//\n",
    "\n",
    "// Modified for Crypto Market by ShayanKM\n",
    "\n",
    "study(\"Waddah Attar Explosion V2 [SHK]\", shorttitle=\"WAE [SHK]\")\n",
    "sensitivity = input(150, title=\"Sensitivity\")\n",
    "fastLength=input(20, title=\"FastEMA Length\")\n",
    "slowLength=input(40, title=\"SlowEMA Length\")\n",
    "channelLength=input(20, title=\"BB Channel Length\")\n",
    "mult=input(2.0, title=\"BB Stdev Multiplier\")\n",
    "\n",
    "DEAD_ZONE = nz(rma(tr(true),100)) * 3.7\n",
    "\n",
    "calc_macd(source, fastLength, slowLength) =>\n",
    "\tfastMA = ema(source, fastLength)\n",
    "\tslowMA = ema(source, slowLength)\n",
    "\tfastMA - slowMA\n",
    "\n",
    "calc_BBUpper(source, length, mult) => \n",
    "\tbasis = sma(source, length)\n",
    "\tdev = mult * stdev(source, length)\n",
    "\tbasis + dev\n",
    "\n",
    "calc_BBLower(source, length, mult) => \n",
    "\tbasis = sma(source, length)\n",
    "\tdev = mult * stdev(source, length)\n",
    "\tbasis - dev\n",
    "\n",
    "t1 = (calc_macd(close, fastLength, slowLength) - calc_macd(close[1], fastLength, slowLength))*sensitivity\n",
    "\n",
    "e1 = (calc_BBUpper(close, channelLength, mult) - calc_BBLower(close, channelLength, mult))\n",
    "\n",
    "trendUp = (t1 >= 0) ? t1 : 0\n",
    "trendDown = (t1 < 0) ? (-1*t1) : 0\n",
    "\n",
    "plot(trendUp, style=columns, linewidth=1, color=(trendUp<trendUp[1])?lime:green, transp=45, title=\"UpTrend\")\n",
    "plot(trendDown, style=columns, linewidth=1, color=(trendDown<trendDown[1])?orange:red, transp=45, title=\"DownTrend\")\n",
    "plot(e1, style=line, linewidth=2, color=#A0522D, title=\"ExplosionLine\")\n",
    "plot(DEAD_ZONE, color=blue, linewidth=1, style=cross, title=\"DeadZoneLine\")\n",
    "\n",
    "```"
   ]
  },
  {
   "cell_type": "code",
   "execution_count": 2,
   "id": "congressional-patient",
   "metadata": {},
   "outputs": [
    {
     "data": {
      "application/javascript": [
       "\n",
       "            setTimeout(function() {\n",
       "                var nbb_cell_id = 2;\n",
       "                var nbb_unformatted_code = \"# Standard imports\\nimport pandas as pd\\nimport numpy as np\\n\\n# import matplotlib.pyplot as plt\\n# import seaborn as sns\\nimport talib as tl\\n\\nimport os\\nfrom os import environ as env\\nfrom dotenv import load_dotenv\\nfrom binance import Client, ThreadedWebsocketManager, ThreadedDepthCacheManager\";\n",
       "                var nbb_formatted_code = \"# Standard imports\\nimport pandas as pd\\nimport numpy as np\\n\\n# import matplotlib.pyplot as plt\\n# import seaborn as sns\\nimport talib as tl\\n\\nimport os\\nfrom os import environ as env\\nfrom dotenv import load_dotenv\\nfrom binance import Client, ThreadedWebsocketManager, ThreadedDepthCacheManager\";\n",
       "                var nbb_cells = Jupyter.notebook.get_cells();\n",
       "                for (var i = 0; i < nbb_cells.length; ++i) {\n",
       "                    if (nbb_cells[i].input_prompt_number == nbb_cell_id) {\n",
       "                        if (nbb_cells[i].get_text() == nbb_unformatted_code) {\n",
       "                             nbb_cells[i].set_text(nbb_formatted_code);\n",
       "                        }\n",
       "                        break;\n",
       "                    }\n",
       "                }\n",
       "            }, 500);\n",
       "            "
      ],
      "text/plain": [
       "<IPython.core.display.Javascript object>"
      ]
     },
     "metadata": {},
     "output_type": "display_data"
    }
   ],
   "source": [
    "# Standard imports\n",
    "import pandas as pd\n",
    "import numpy as np\n",
    "\n",
    "# import matplotlib.pyplot as plt\n",
    "# import seaborn as sns\n",
    "import talib as tl\n",
    "\n",
    "import os\n",
    "from os import environ as env\n",
    "from dotenv import load_dotenv\n",
    "from binance import Client, ThreadedWebsocketManager, ThreadedDepthCacheManager"
   ]
  },
  {
   "cell_type": "code",
   "execution_count": 3,
   "id": "growing-buffalo",
   "metadata": {},
   "outputs": [
    {
     "data": {
      "application/javascript": [
       "\n",
       "            setTimeout(function() {\n",
       "                var nbb_cell_id = 3;\n",
       "                var nbb_unformatted_code = \"# Install a pip package in the current Jupyter kernel\\n# import sys\\n\\n# !{sys.executable} -m pip install -U python-dotenv\";\n",
       "                var nbb_formatted_code = \"# Install a pip package in the current Jupyter kernel\\n# import sys\\n\\n# !{sys.executable} -m pip install -U python-dotenv\";\n",
       "                var nbb_cells = Jupyter.notebook.get_cells();\n",
       "                for (var i = 0; i < nbb_cells.length; ++i) {\n",
       "                    if (nbb_cells[i].input_prompt_number == nbb_cell_id) {\n",
       "                        if (nbb_cells[i].get_text() == nbb_unformatted_code) {\n",
       "                             nbb_cells[i].set_text(nbb_formatted_code);\n",
       "                        }\n",
       "                        break;\n",
       "                    }\n",
       "                }\n",
       "            }, 500);\n",
       "            "
      ],
      "text/plain": [
       "<IPython.core.display.Javascript object>"
      ]
     },
     "metadata": {},
     "output_type": "display_data"
    }
   ],
   "source": [
    "# Install a pip package in the current Jupyter kernel\n",
    "# import sys\n",
    "\n",
    "# !{sys.executable} -m pip install -U python-dotenv"
   ]
  },
  {
   "cell_type": "code",
   "execution_count": 4,
   "id": "southwest-winner",
   "metadata": {},
   "outputs": [
    {
     "data": {
      "application/javascript": [
       "\n",
       "            setTimeout(function() {\n",
       "                var nbb_cell_id = 4;\n",
       "                var nbb_unformatted_code = \"project_dotenv = os.path.join(os.path.abspath(\\\"\\\"), \\\".env\\\")\\nif os.path.exists(project_dotenv):\\n    load_dotenv(project_dotenv)\";\n",
       "                var nbb_formatted_code = \"project_dotenv = os.path.join(os.path.abspath(\\\"\\\"), \\\".env\\\")\\nif os.path.exists(project_dotenv):\\n    load_dotenv(project_dotenv)\";\n",
       "                var nbb_cells = Jupyter.notebook.get_cells();\n",
       "                for (var i = 0; i < nbb_cells.length; ++i) {\n",
       "                    if (nbb_cells[i].input_prompt_number == nbb_cell_id) {\n",
       "                        if (nbb_cells[i].get_text() == nbb_unformatted_code) {\n",
       "                             nbb_cells[i].set_text(nbb_formatted_code);\n",
       "                        }\n",
       "                        break;\n",
       "                    }\n",
       "                }\n",
       "            }, 500);\n",
       "            "
      ],
      "text/plain": [
       "<IPython.core.display.Javascript object>"
      ]
     },
     "metadata": {},
     "output_type": "display_data"
    }
   ],
   "source": [
    "project_dotenv = os.path.join(os.path.abspath(\"\"), \".env\")\n",
    "if os.path.exists(project_dotenv):\n",
    "    load_dotenv(project_dotenv)"
   ]
  },
  {
   "cell_type": "code",
   "execution_count": 5,
   "id": "blank-pharmaceutical",
   "metadata": {},
   "outputs": [
    {
     "data": {
      "application/javascript": [
       "\n",
       "            setTimeout(function() {\n",
       "                var nbb_cell_id = 5;\n",
       "                var nbb_unformatted_code = \"api_key, api_secret = env.get(\\\"ENV_API_KEY\\\"), env.get(\\\"ENV_SECRET_KEY\\\")\\nclient = Client(api_key, api_secret)\";\n",
       "                var nbb_formatted_code = \"api_key, api_secret = env.get(\\\"ENV_API_KEY\\\"), env.get(\\\"ENV_SECRET_KEY\\\")\\nclient = Client(api_key, api_secret)\";\n",
       "                var nbb_cells = Jupyter.notebook.get_cells();\n",
       "                for (var i = 0; i < nbb_cells.length; ++i) {\n",
       "                    if (nbb_cells[i].input_prompt_number == nbb_cell_id) {\n",
       "                        if (nbb_cells[i].get_text() == nbb_unformatted_code) {\n",
       "                             nbb_cells[i].set_text(nbb_formatted_code);\n",
       "                        }\n",
       "                        break;\n",
       "                    }\n",
       "                }\n",
       "            }, 500);\n",
       "            "
      ],
      "text/plain": [
       "<IPython.core.display.Javascript object>"
      ]
     },
     "metadata": {},
     "output_type": "display_data"
    }
   ],
   "source": [
    "api_key, api_secret = env.get(\"ENV_API_KEY\"), env.get(\"ENV_SECRET_KEY\")\n",
    "client = Client(api_key, api_secret)"
   ]
  },
  {
   "cell_type": "code",
   "execution_count": 6,
   "id": "stuffed-january",
   "metadata": {},
   "outputs": [
    {
     "data": {
      "application/javascript": [
       "\n",
       "            setTimeout(function() {\n",
       "                var nbb_cell_id = 6;\n",
       "                var nbb_unformatted_code = \"klines = client.get_klines(symbol=\\\"ATOMUSDT\\\", interval=Client.KLINE_INTERVAL_15MINUTE)\\n\\nshort_col_names = [\\n    \\\"open_time\\\",\\n    \\\"open\\\",\\n    \\\"high\\\",\\n    \\\"low\\\",\\n    \\\"close\\\",\\n    \\\"volume\\\",\\n    \\\"close_time\\\",\\n    \\\"qav\\\",\\n    \\\"num_trades\\\",\\n    \\\"taker_base_vol\\\",\\n    \\\"taker_quote_vol\\\",\\n    \\\"ignore\\\",\\n]\";\n",
       "                var nbb_formatted_code = \"klines = client.get_klines(symbol=\\\"ATOMUSDT\\\", interval=Client.KLINE_INTERVAL_15MINUTE)\\n\\nshort_col_names = [\\n    \\\"open_time\\\",\\n    \\\"open\\\",\\n    \\\"high\\\",\\n    \\\"low\\\",\\n    \\\"close\\\",\\n    \\\"volume\\\",\\n    \\\"close_time\\\",\\n    \\\"qav\\\",\\n    \\\"num_trades\\\",\\n    \\\"taker_base_vol\\\",\\n    \\\"taker_quote_vol\\\",\\n    \\\"ignore\\\",\\n]\";\n",
       "                var nbb_cells = Jupyter.notebook.get_cells();\n",
       "                for (var i = 0; i < nbb_cells.length; ++i) {\n",
       "                    if (nbb_cells[i].input_prompt_number == nbb_cell_id) {\n",
       "                        if (nbb_cells[i].get_text() == nbb_unformatted_code) {\n",
       "                             nbb_cells[i].set_text(nbb_formatted_code);\n",
       "                        }\n",
       "                        break;\n",
       "                    }\n",
       "                }\n",
       "            }, 500);\n",
       "            "
      ],
      "text/plain": [
       "<IPython.core.display.Javascript object>"
      ]
     },
     "metadata": {},
     "output_type": "display_data"
    }
   ],
   "source": [
    "klines = client.get_klines(symbol=\"ATOMUSDT\", interval=Client.KLINE_INTERVAL_15MINUTE)\n",
    "\n",
    "short_col_names = [\n",
    "    \"open_time\",\n",
    "    \"open\",\n",
    "    \"high\",\n",
    "    \"low\",\n",
    "    \"close\",\n",
    "    \"volume\",\n",
    "    \"close_time\",\n",
    "    \"qav\",\n",
    "    \"num_trades\",\n",
    "    \"taker_base_vol\",\n",
    "    \"taker_quote_vol\",\n",
    "    \"ignore\",\n",
    "]"
   ]
  },
  {
   "cell_type": "code",
   "execution_count": 7,
   "id": "visible-hanging",
   "metadata": {},
   "outputs": [
    {
     "data": {
      "text/html": [
       "<div>\n",
       "<style scoped>\n",
       "    .dataframe tbody tr th:only-of-type {\n",
       "        vertical-align: middle;\n",
       "    }\n",
       "\n",
       "    .dataframe tbody tr th {\n",
       "        vertical-align: top;\n",
       "    }\n",
       "\n",
       "    .dataframe thead th {\n",
       "        text-align: right;\n",
       "    }\n",
       "</style>\n",
       "<table border=\"1\" class=\"dataframe\">\n",
       "  <thead>\n",
       "    <tr style=\"text-align: right;\">\n",
       "      <th></th>\n",
       "      <th>open_time</th>\n",
       "      <th>open</th>\n",
       "      <th>high</th>\n",
       "      <th>low</th>\n",
       "      <th>close</th>\n",
       "      <th>volume</th>\n",
       "      <th>close_time</th>\n",
       "      <th>qav</th>\n",
       "      <th>num_trades</th>\n",
       "      <th>taker_base_vol</th>\n",
       "      <th>taker_quote_vol</th>\n",
       "      <th>ignore</th>\n",
       "    </tr>\n",
       "  </thead>\n",
       "  <tbody>\n",
       "    <tr>\n",
       "      <th>495</th>\n",
       "      <td>2023-04-18 13:15:00</td>\n",
       "      <td>12.70600000</td>\n",
       "      <td>12.71300000</td>\n",
       "      <td>12.66200000</td>\n",
       "      <td>12.68100000</td>\n",
       "      <td>15443.85000000</td>\n",
       "      <td>2023-04-18 13:29:59.999</td>\n",
       "      <td>196005.00306000</td>\n",
       "      <td>650</td>\n",
       "      <td>5544.34000000</td>\n",
       "      <td>70337.99074000</td>\n",
       "      <td>0</td>\n",
       "    </tr>\n",
       "    <tr>\n",
       "      <th>496</th>\n",
       "      <td>2023-04-18 13:30:00</td>\n",
       "      <td>12.68000000</td>\n",
       "      <td>12.70100000</td>\n",
       "      <td>12.64100000</td>\n",
       "      <td>12.69000000</td>\n",
       "      <td>23399.40000000</td>\n",
       "      <td>2023-04-18 13:44:59.999</td>\n",
       "      <td>296660.29865000</td>\n",
       "      <td>999</td>\n",
       "      <td>10378.55000000</td>\n",
       "      <td>131605.39577000</td>\n",
       "      <td>0</td>\n",
       "    </tr>\n",
       "    <tr>\n",
       "      <th>497</th>\n",
       "      <td>2023-04-18 13:45:00</td>\n",
       "      <td>12.68900000</td>\n",
       "      <td>12.71900000</td>\n",
       "      <td>12.68900000</td>\n",
       "      <td>12.69500000</td>\n",
       "      <td>20402.64000000</td>\n",
       "      <td>2023-04-18 13:59:59.999</td>\n",
       "      <td>259204.92084000</td>\n",
       "      <td>739</td>\n",
       "      <td>9486.80000000</td>\n",
       "      <td>120531.26228000</td>\n",
       "      <td>0</td>\n",
       "    </tr>\n",
       "    <tr>\n",
       "      <th>498</th>\n",
       "      <td>2023-04-18 14:00:00</td>\n",
       "      <td>12.69400000</td>\n",
       "      <td>12.70000000</td>\n",
       "      <td>12.60700000</td>\n",
       "      <td>12.63200000</td>\n",
       "      <td>26710.72000000</td>\n",
       "      <td>2023-04-18 14:14:59.999</td>\n",
       "      <td>337503.06311000</td>\n",
       "      <td>1145</td>\n",
       "      <td>10612.79000000</td>\n",
       "      <td>134093.40307000</td>\n",
       "      <td>0</td>\n",
       "    </tr>\n",
       "    <tr>\n",
       "      <th>499</th>\n",
       "      <td>2023-04-18 14:15:00</td>\n",
       "      <td>12.63300000</td>\n",
       "      <td>12.64000000</td>\n",
       "      <td>12.62500000</td>\n",
       "      <td>12.63900000</td>\n",
       "      <td>3854.41000000</td>\n",
       "      <td>2023-04-18 14:29:59.999</td>\n",
       "      <td>48686.99427000</td>\n",
       "      <td>137</td>\n",
       "      <td>2086.52000000</td>\n",
       "      <td>26354.91385000</td>\n",
       "      <td>0</td>\n",
       "    </tr>\n",
       "  </tbody>\n",
       "</table>\n",
       "</div>"
      ],
      "text/plain": [
       "              open_time         open         high          low        close  \\\n",
       "495 2023-04-18 13:15:00  12.70600000  12.71300000  12.66200000  12.68100000   \n",
       "496 2023-04-18 13:30:00  12.68000000  12.70100000  12.64100000  12.69000000   \n",
       "497 2023-04-18 13:45:00  12.68900000  12.71900000  12.68900000  12.69500000   \n",
       "498 2023-04-18 14:00:00  12.69400000  12.70000000  12.60700000  12.63200000   \n",
       "499 2023-04-18 14:15:00  12.63300000  12.64000000  12.62500000  12.63900000   \n",
       "\n",
       "             volume              close_time              qav  num_trades  \\\n",
       "495  15443.85000000 2023-04-18 13:29:59.999  196005.00306000         650   \n",
       "496  23399.40000000 2023-04-18 13:44:59.999  296660.29865000         999   \n",
       "497  20402.64000000 2023-04-18 13:59:59.999  259204.92084000         739   \n",
       "498  26710.72000000 2023-04-18 14:14:59.999  337503.06311000        1145   \n",
       "499   3854.41000000 2023-04-18 14:29:59.999   48686.99427000         137   \n",
       "\n",
       "     taker_base_vol  taker_quote_vol ignore  \n",
       "495   5544.34000000   70337.99074000      0  \n",
       "496  10378.55000000  131605.39577000      0  \n",
       "497   9486.80000000  120531.26228000      0  \n",
       "498  10612.79000000  134093.40307000      0  \n",
       "499   2086.52000000   26354.91385000      0  "
      ]
     },
     "execution_count": 7,
     "metadata": {},
     "output_type": "execute_result"
    },
    {
     "data": {
      "application/javascript": [
       "\n",
       "            setTimeout(function() {\n",
       "                var nbb_cell_id = 7;\n",
       "                var nbb_unformatted_code = \"data = pd.DataFrame(klines, columns=short_col_names)\\ndata[\\\"open_time\\\"] = pd.to_datetime(data[\\\"open_time\\\"], unit=\\\"ms\\\")\\ndata[\\\"close_time\\\"] = pd.to_datetime(data[\\\"close_time\\\"], unit=\\\"ms\\\")\\ndata.tail(5)\";\n",
       "                var nbb_formatted_code = \"data = pd.DataFrame(klines, columns=short_col_names)\\ndata[\\\"open_time\\\"] = pd.to_datetime(data[\\\"open_time\\\"], unit=\\\"ms\\\")\\ndata[\\\"close_time\\\"] = pd.to_datetime(data[\\\"close_time\\\"], unit=\\\"ms\\\")\\ndata.tail(5)\";\n",
       "                var nbb_cells = Jupyter.notebook.get_cells();\n",
       "                for (var i = 0; i < nbb_cells.length; ++i) {\n",
       "                    if (nbb_cells[i].input_prompt_number == nbb_cell_id) {\n",
       "                        if (nbb_cells[i].get_text() == nbb_unformatted_code) {\n",
       "                             nbb_cells[i].set_text(nbb_formatted_code);\n",
       "                        }\n",
       "                        break;\n",
       "                    }\n",
       "                }\n",
       "            }, 500);\n",
       "            "
      ],
      "text/plain": [
       "<IPython.core.display.Javascript object>"
      ]
     },
     "metadata": {},
     "output_type": "display_data"
    }
   ],
   "source": [
    "data = pd.DataFrame(klines, columns=short_col_names)\n",
    "data[\"open_time\"] = pd.to_datetime(data[\"open_time\"], unit=\"ms\")\n",
    "data[\"close_time\"] = pd.to_datetime(data[\"close_time\"], unit=\"ms\")\n",
    "data.tail(5)"
   ]
  },
  {
   "cell_type": "markdown",
   "id": "mysterious-vinyl",
   "metadata": {},
   "source": [
    "### Inputs"
   ]
  },
  {
   "cell_type": "code",
   "execution_count": 8,
   "id": "brilliant-bubble",
   "metadata": {},
   "outputs": [
    {
     "data": {
      "application/javascript": [
       "\n",
       "            setTimeout(function() {\n",
       "                var nbb_cell_id = 8;\n",
       "                var nbb_unformatted_code = \"sensitivity: int = 150  # input(150, title='Sensitivity')\\nfastLength: int = 20  # input(20, title='FastEMA Length')\\nslowLength: int = 40  # input(40, title='SlowEMA Length')\\nchannelLength: int = 20  # input(20, title='BB Channel Length')\\nmult: float = 2.0  # input(2.0, title='BB Stdev Multiplier')\";\n",
       "                var nbb_formatted_code = \"sensitivity: int = 150  # input(150, title='Sensitivity')\\nfastLength: int = 20  # input(20, title='FastEMA Length')\\nslowLength: int = 40  # input(40, title='SlowEMA Length')\\nchannelLength: int = 20  # input(20, title='BB Channel Length')\\nmult: float = 2.0  # input(2.0, title='BB Stdev Multiplier')\";\n",
       "                var nbb_cells = Jupyter.notebook.get_cells();\n",
       "                for (var i = 0; i < nbb_cells.length; ++i) {\n",
       "                    if (nbb_cells[i].input_prompt_number == nbb_cell_id) {\n",
       "                        if (nbb_cells[i].get_text() == nbb_unformatted_code) {\n",
       "                             nbb_cells[i].set_text(nbb_formatted_code);\n",
       "                        }\n",
       "                        break;\n",
       "                    }\n",
       "                }\n",
       "            }, 500);\n",
       "            "
      ],
      "text/plain": [
       "<IPython.core.display.Javascript object>"
      ]
     },
     "metadata": {},
     "output_type": "display_data"
    }
   ],
   "source": [
    "sensitivity: int = 150  # input(150, title='Sensitivity')\n",
    "fastLength: int = 20  # input(20, title='FastEMA Length')\n",
    "slowLength: int = 40  # input(40, title='SlowEMA Length')\n",
    "channelLength: int = 20  # input(20, title='BB Channel Length')\n",
    "mult: float = 2.0  # input(2.0, title='BB Stdev Multiplier')"
   ]
  },
  {
   "cell_type": "code",
   "execution_count": 9,
   "id": "compressed-integer",
   "metadata": {},
   "outputs": [
    {
     "data": {
      "application/javascript": [
       "\n",
       "            setTimeout(function() {\n",
       "                var nbb_cell_id = 9;\n",
       "                var nbb_unformatted_code = \"# DEAD_ZONE = nz(ta.rma(ta.tr(true), 100)) * 3.7\\n# ta_tr = tl.TRANGE(data.high, data.low, data.close)\\nta_rma = np.nan_to_num(tl.ATR(data.high, data.low, data.close, 100), nan=0)\\nDEAD_ZONE = ta_rma * 3.7\";\n",
       "                var nbb_formatted_code = \"# DEAD_ZONE = nz(ta.rma(ta.tr(true), 100)) * 3.7\\n# ta_tr = tl.TRANGE(data.high, data.low, data.close)\\nta_rma = np.nan_to_num(tl.ATR(data.high, data.low, data.close, 100), nan=0)\\nDEAD_ZONE = ta_rma * 3.7\";\n",
       "                var nbb_cells = Jupyter.notebook.get_cells();\n",
       "                for (var i = 0; i < nbb_cells.length; ++i) {\n",
       "                    if (nbb_cells[i].input_prompt_number == nbb_cell_id) {\n",
       "                        if (nbb_cells[i].get_text() == nbb_unformatted_code) {\n",
       "                             nbb_cells[i].set_text(nbb_formatted_code);\n",
       "                        }\n",
       "                        break;\n",
       "                    }\n",
       "                }\n",
       "            }, 500);\n",
       "            "
      ],
      "text/plain": [
       "<IPython.core.display.Javascript object>"
      ]
     },
     "metadata": {},
     "output_type": "display_data"
    }
   ],
   "source": [
    "# DEAD_ZONE = nz(ta.rma(ta.tr(true), 100)) * 3.7\n",
    "# ta_tr = tl.TRANGE(data.high, data.low, data.close)\n",
    "ta_rma = np.nan_to_num(tl.ATR(data.high, data.low, data.close, 100), nan=0)\n",
    "DEAD_ZONE = ta_rma * 3.7"
   ]
  },
  {
   "cell_type": "code",
   "execution_count": 10,
   "id": "wanted-buffer",
   "metadata": {},
   "outputs": [
    {
     "data": {
      "application/javascript": [
       "\n",
       "            setTimeout(function() {\n",
       "                var nbb_cell_id = 10;\n",
       "                var nbb_unformatted_code = \"def calc_macd(source, fastLength, slowLength):\\n    fastMA = tl.EMA(source, fastLength)\\n    slowMA = tl.EMA(source, slowLength)\\n    return fastMA - slowMA\";\n",
       "                var nbb_formatted_code = \"def calc_macd(source, fastLength, slowLength):\\n    fastMA = tl.EMA(source, fastLength)\\n    slowMA = tl.EMA(source, slowLength)\\n    return fastMA - slowMA\";\n",
       "                var nbb_cells = Jupyter.notebook.get_cells();\n",
       "                for (var i = 0; i < nbb_cells.length; ++i) {\n",
       "                    if (nbb_cells[i].input_prompt_number == nbb_cell_id) {\n",
       "                        if (nbb_cells[i].get_text() == nbb_unformatted_code) {\n",
       "                             nbb_cells[i].set_text(nbb_formatted_code);\n",
       "                        }\n",
       "                        break;\n",
       "                    }\n",
       "                }\n",
       "            }, 500);\n",
       "            "
      ],
      "text/plain": [
       "<IPython.core.display.Javascript object>"
      ]
     },
     "metadata": {},
     "output_type": "display_data"
    }
   ],
   "source": [
    "def calc_macd(source, fastLength, slowLength):\n",
    "    fastMA = tl.EMA(source, fastLength)\n",
    "    slowMA = tl.EMA(source, slowLength)\n",
    "    return fastMA - slowMA"
   ]
  },
  {
   "cell_type": "code",
   "execution_count": 11,
   "id": "computational-receptor",
   "metadata": {},
   "outputs": [
    {
     "data": {
      "application/javascript": [
       "\n",
       "            setTimeout(function() {\n",
       "                var nbb_cell_id = 11;\n",
       "                var nbb_unformatted_code = \"def calc_BBUpper(source, length, mult):\\n    basis = tl.SMA(source, length)\\n    dev = mult * tl.STDDEV(source, length)\\n    return basis + dev\";\n",
       "                var nbb_formatted_code = \"def calc_BBUpper(source, length, mult):\\n    basis = tl.SMA(source, length)\\n    dev = mult * tl.STDDEV(source, length)\\n    return basis + dev\";\n",
       "                var nbb_cells = Jupyter.notebook.get_cells();\n",
       "                for (var i = 0; i < nbb_cells.length; ++i) {\n",
       "                    if (nbb_cells[i].input_prompt_number == nbb_cell_id) {\n",
       "                        if (nbb_cells[i].get_text() == nbb_unformatted_code) {\n",
       "                             nbb_cells[i].set_text(nbb_formatted_code);\n",
       "                        }\n",
       "                        break;\n",
       "                    }\n",
       "                }\n",
       "            }, 500);\n",
       "            "
      ],
      "text/plain": [
       "<IPython.core.display.Javascript object>"
      ]
     },
     "metadata": {},
     "output_type": "display_data"
    }
   ],
   "source": [
    "def calc_BBUpper(source, length, mult):\n",
    "    basis = tl.SMA(source, length)\n",
    "    dev = mult * tl.STDDEV(source, length)\n",
    "    return basis + dev"
   ]
  },
  {
   "cell_type": "code",
   "execution_count": 12,
   "id": "political-suggestion",
   "metadata": {},
   "outputs": [
    {
     "data": {
      "application/javascript": [
       "\n",
       "            setTimeout(function() {\n",
       "                var nbb_cell_id = 12;\n",
       "                var nbb_unformatted_code = \"def calc_BBLower(source, length, mult):\\n    basis = tl.SMA(source, length)\\n    dev = mult * tl.STDDEV(source, length)\\n    return basis - dev\";\n",
       "                var nbb_formatted_code = \"def calc_BBLower(source, length, mult):\\n    basis = tl.SMA(source, length)\\n    dev = mult * tl.STDDEV(source, length)\\n    return basis - dev\";\n",
       "                var nbb_cells = Jupyter.notebook.get_cells();\n",
       "                for (var i = 0; i < nbb_cells.length; ++i) {\n",
       "                    if (nbb_cells[i].input_prompt_number == nbb_cell_id) {\n",
       "                        if (nbb_cells[i].get_text() == nbb_unformatted_code) {\n",
       "                             nbb_cells[i].set_text(nbb_formatted_code);\n",
       "                        }\n",
       "                        break;\n",
       "                    }\n",
       "                }\n",
       "            }, 500);\n",
       "            "
      ],
      "text/plain": [
       "<IPython.core.display.Javascript object>"
      ]
     },
     "metadata": {},
     "output_type": "display_data"
    }
   ],
   "source": [
    "def calc_BBLower(source, length, mult):\n",
    "    basis = tl.SMA(source, length)\n",
    "    dev = mult * tl.STDDEV(source, length)\n",
    "    return basis - dev"
   ]
  },
  {
   "cell_type": "code",
   "execution_count": 13,
   "id": "proved-membrane",
   "metadata": {},
   "outputs": [
    {
     "data": {
      "text/plain": [
       "array([11.458, 11.477, 11.442, 11.453, 11.481, 11.484, 11.549, 11.559,\n",
       "       11.523, 11.532])"
      ]
     },
     "execution_count": 13,
     "metadata": {},
     "output_type": "execute_result"
    },
    {
     "data": {
      "application/javascript": [
       "\n",
       "            setTimeout(function() {\n",
       "                var nbb_cell_id = 13;\n",
       "                var nbb_unformatted_code = \"close = data.close.to_numpy(dtype=np.double)\\nclose_1 = np.roll(close, 1)\\nclose_1[0] = 0\\nclose[:10]\";\n",
       "                var nbb_formatted_code = \"close = data.close.to_numpy(dtype=np.double)\\nclose_1 = np.roll(close, 1)\\nclose_1[0] = 0\\nclose[:10]\";\n",
       "                var nbb_cells = Jupyter.notebook.get_cells();\n",
       "                for (var i = 0; i < nbb_cells.length; ++i) {\n",
       "                    if (nbb_cells[i].input_prompt_number == nbb_cell_id) {\n",
       "                        if (nbb_cells[i].get_text() == nbb_unformatted_code) {\n",
       "                             nbb_cells[i].set_text(nbb_formatted_code);\n",
       "                        }\n",
       "                        break;\n",
       "                    }\n",
       "                }\n",
       "            }, 500);\n",
       "            "
      ],
      "text/plain": [
       "<IPython.core.display.Javascript object>"
      ]
     },
     "metadata": {},
     "output_type": "display_data"
    }
   ],
   "source": [
    "close = data.close.to_numpy(dtype=np.double)\n",
    "close_1 = np.roll(close, 1)\n",
    "close_1[0] = 0\n",
    "close[:10]"
   ]
  },
  {
   "cell_type": "code",
   "execution_count": 14,
   "id": "thrown-smith",
   "metadata": {},
   "outputs": [
    {
     "data": {
      "application/javascript": [
       "\n",
       "            setTimeout(function() {\n",
       "                var nbb_cell_id = 14;\n",
       "                var nbb_unformatted_code = \"# t1 = np.full_like(data.close.to_numpy(dtype=np.double), fill_value=np.nan)\\n\\nt1 = (\\n    calc_macd(close, fastLength, slowLength)\\n    - calc_macd(close_1, fastLength, slowLength)\\n) * sensitivity\";\n",
       "                var nbb_formatted_code = \"# t1 = np.full_like(data.close.to_numpy(dtype=np.double), fill_value=np.nan)\\n\\nt1 = (\\n    calc_macd(close, fastLength, slowLength)\\n    - calc_macd(close_1, fastLength, slowLength)\\n) * sensitivity\";\n",
       "                var nbb_cells = Jupyter.notebook.get_cells();\n",
       "                for (var i = 0; i < nbb_cells.length; ++i) {\n",
       "                    if (nbb_cells[i].input_prompt_number == nbb_cell_id) {\n",
       "                        if (nbb_cells[i].get_text() == nbb_unformatted_code) {\n",
       "                             nbb_cells[i].set_text(nbb_formatted_code);\n",
       "                        }\n",
       "                        break;\n",
       "                    }\n",
       "                }\n",
       "            }, 500);\n",
       "            "
      ],
      "text/plain": [
       "<IPython.core.display.Javascript object>"
      ]
     },
     "metadata": {},
     "output_type": "display_data"
    }
   ],
   "source": [
    "# t1 = np.full_like(data.close.to_numpy(dtype=np.double), fill_value=np.nan)\n",
    "\n",
    "t1 = (\n",
    "    calc_macd(close, fastLength, slowLength)\n",
    "    - calc_macd(close_1, fastLength, slowLength)\n",
    ") * sensitivity"
   ]
  },
  {
   "cell_type": "code",
   "execution_count": 15,
   "id": "single-concentration",
   "metadata": {},
   "outputs": [
    {
     "data": {
      "application/javascript": [
       "\n",
       "            setTimeout(function() {\n",
       "                var nbb_cell_id = 15;\n",
       "                var nbb_unformatted_code = \"e1 = calc_BBUpper(close, channelLength, mult) - calc_BBLower(close, channelLength, mult)\";\n",
       "                var nbb_formatted_code = \"e1 = calc_BBUpper(close, channelLength, mult) - calc_BBLower(close, channelLength, mult)\";\n",
       "                var nbb_cells = Jupyter.notebook.get_cells();\n",
       "                for (var i = 0; i < nbb_cells.length; ++i) {\n",
       "                    if (nbb_cells[i].input_prompt_number == nbb_cell_id) {\n",
       "                        if (nbb_cells[i].get_text() == nbb_unformatted_code) {\n",
       "                             nbb_cells[i].set_text(nbb_formatted_code);\n",
       "                        }\n",
       "                        break;\n",
       "                    }\n",
       "                }\n",
       "            }, 500);\n",
       "            "
      ],
      "text/plain": [
       "<IPython.core.display.Javascript object>"
      ]
     },
     "metadata": {},
     "output_type": "display_data"
    }
   ],
   "source": [
    "e1 = calc_BBUpper(close, channelLength, mult) - calc_BBLower(close, channelLength, mult)"
   ]
  },
  {
   "cell_type": "code",
   "execution_count": 16,
   "id": "matched-sweet",
   "metadata": {},
   "outputs": [
    {
     "data": {
      "application/javascript": [
       "\n",
       "            setTimeout(function() {\n",
       "                var nbb_cell_id = 16;\n",
       "                var nbb_unformatted_code = \"trendUp = np.full_like(t1, fill_value=np.nan)\\ntrendDown = np.full_like(t1, fill_value=np.nan)\\n\\nfor i in range(len(t1)):\\n    trendUp[i] = t1[i] if t1[i] >= 0 else 0\\n    trendDown[i] = t1[i] * -1 if t1[i] < 0 else 0\";\n",
       "                var nbb_formatted_code = \"trendUp = np.full_like(t1, fill_value=np.nan)\\ntrendDown = np.full_like(t1, fill_value=np.nan)\\n\\nfor i in range(len(t1)):\\n    trendUp[i] = t1[i] if t1[i] >= 0 else 0\\n    trendDown[i] = t1[i] * -1 if t1[i] < 0 else 0\";\n",
       "                var nbb_cells = Jupyter.notebook.get_cells();\n",
       "                for (var i = 0; i < nbb_cells.length; ++i) {\n",
       "                    if (nbb_cells[i].input_prompt_number == nbb_cell_id) {\n",
       "                        if (nbb_cells[i].get_text() == nbb_unformatted_code) {\n",
       "                             nbb_cells[i].set_text(nbb_formatted_code);\n",
       "                        }\n",
       "                        break;\n",
       "                    }\n",
       "                }\n",
       "            }, 500);\n",
       "            "
      ],
      "text/plain": [
       "<IPython.core.display.Javascript object>"
      ]
     },
     "metadata": {},
     "output_type": "display_data"
    }
   ],
   "source": [
    "trendUp = np.full_like(t1, fill_value=np.nan)\n",
    "trendDown = np.full_like(t1, fill_value=np.nan)\n",
    "\n",
    "for i in range(len(t1)):\n",
    "    trendUp[i] = t1[i] if t1[i] >= 0 else 0\n",
    "    trendDown[i] = t1[i] * -1 if t1[i] < 0 else 0"
   ]
  },
  {
   "cell_type": "code",
   "execution_count": 17,
   "id": "conventional-forum",
   "metadata": {},
   "outputs": [
    {
     "data": {
      "text/html": [
       "<div>\n",
       "<style scoped>\n",
       "    .dataframe tbody tr th:only-of-type {\n",
       "        vertical-align: middle;\n",
       "    }\n",
       "\n",
       "    .dataframe tbody tr th {\n",
       "        vertical-align: top;\n",
       "    }\n",
       "\n",
       "    .dataframe thead th {\n",
       "        text-align: right;\n",
       "    }\n",
       "</style>\n",
       "<table border=\"1\" class=\"dataframe\">\n",
       "  <thead>\n",
       "    <tr style=\"text-align: right;\">\n",
       "      <th></th>\n",
       "      <th>open_time</th>\n",
       "      <th>UpTrend</th>\n",
       "      <th>DownTrend</th>\n",
       "      <th>ExplosionLine</th>\n",
       "      <th>DeadZoneLine</th>\n",
       "    </tr>\n",
       "  </thead>\n",
       "  <tbody>\n",
       "    <tr>\n",
       "      <th>480</th>\n",
       "      <td>2023-04-18 09:30:00</td>\n",
       "      <td>0.139945</td>\n",
       "      <td>0.000000</td>\n",
       "      <td>0.211983</td>\n",
       "      <td>0.215006</td>\n",
       "    </tr>\n",
       "    <tr>\n",
       "      <th>481</th>\n",
       "      <td>2023-04-18 09:45:00</td>\n",
       "      <td>0.058509</td>\n",
       "      <td>0.000000</td>\n",
       "      <td>0.169293</td>\n",
       "      <td>0.213892</td>\n",
       "    </tr>\n",
       "    <tr>\n",
       "      <th>482</th>\n",
       "      <td>2023-04-18 10:00:00</td>\n",
       "      <td>0.000000</td>\n",
       "      <td>0.025786</td>\n",
       "      <td>0.162699</td>\n",
       "      <td>0.212234</td>\n",
       "    </tr>\n",
       "    <tr>\n",
       "      <th>483</th>\n",
       "      <td>2023-04-18 10:15:00</td>\n",
       "      <td>0.131753</td>\n",
       "      <td>0.000000</td>\n",
       "      <td>0.147097</td>\n",
       "      <td>0.211185</td>\n",
       "    </tr>\n",
       "    <tr>\n",
       "      <th>484</th>\n",
       "      <td>2023-04-18 10:30:00</td>\n",
       "      <td>0.036757</td>\n",
       "      <td>0.000000</td>\n",
       "      <td>0.137916</td>\n",
       "      <td>0.209998</td>\n",
       "    </tr>\n",
       "    <tr>\n",
       "      <th>485</th>\n",
       "      <td>2023-04-18 10:45:00</td>\n",
       "      <td>0.000000</td>\n",
       "      <td>0.093950</td>\n",
       "      <td>0.123629</td>\n",
       "      <td>0.209082</td>\n",
       "    </tr>\n",
       "    <tr>\n",
       "      <th>486</th>\n",
       "      <td>2023-04-18 11:00:00</td>\n",
       "      <td>0.093648</td>\n",
       "      <td>0.000000</td>\n",
       "      <td>0.117402</td>\n",
       "      <td>0.208434</td>\n",
       "    </tr>\n",
       "    <tr>\n",
       "      <th>487</th>\n",
       "      <td>2023-04-18 11:15:00</td>\n",
       "      <td>0.143167</td>\n",
       "      <td>0.000000</td>\n",
       "      <td>0.126456</td>\n",
       "      <td>0.207645</td>\n",
       "    </tr>\n",
       "    <tr>\n",
       "      <th>488</th>\n",
       "      <td>2023-04-18 11:30:00</td>\n",
       "      <td>0.442959</td>\n",
       "      <td>0.000000</td>\n",
       "      <td>0.154554</td>\n",
       "      <td>0.207678</td>\n",
       "    </tr>\n",
       "    <tr>\n",
       "      <th>489</th>\n",
       "      <td>2023-04-18 11:45:00</td>\n",
       "      <td>0.385321</td>\n",
       "      <td>0.000000</td>\n",
       "      <td>0.179370</td>\n",
       "      <td>0.207784</td>\n",
       "    </tr>\n",
       "    <tr>\n",
       "      <th>490</th>\n",
       "      <td>2023-04-18 12:00:00</td>\n",
       "      <td>0.013369</td>\n",
       "      <td>0.000000</td>\n",
       "      <td>0.184544</td>\n",
       "      <td>0.207852</td>\n",
       "    </tr>\n",
       "    <tr>\n",
       "      <th>491</th>\n",
       "      <td>2023-04-18 12:15:00</td>\n",
       "      <td>0.139188</td>\n",
       "      <td>0.000000</td>\n",
       "      <td>0.196959</td>\n",
       "      <td>0.207882</td>\n",
       "    </tr>\n",
       "    <tr>\n",
       "      <th>492</th>\n",
       "      <td>2023-04-18 12:30:00</td>\n",
       "      <td>0.000000</td>\n",
       "      <td>0.394291</td>\n",
       "      <td>0.195342</td>\n",
       "      <td>0.209097</td>\n",
       "    </tr>\n",
       "    <tr>\n",
       "      <th>493</th>\n",
       "      <td>2023-04-18 12:45:00</td>\n",
       "      <td>0.000000</td>\n",
       "      <td>0.301063</td>\n",
       "      <td>0.195817</td>\n",
       "      <td>0.208375</td>\n",
       "    </tr>\n",
       "    <tr>\n",
       "      <th>494</th>\n",
       "      <td>2023-04-18 13:00:00</td>\n",
       "      <td>0.000000</td>\n",
       "      <td>0.080057</td>\n",
       "      <td>0.199806</td>\n",
       "      <td>0.208400</td>\n",
       "    </tr>\n",
       "    <tr>\n",
       "      <th>495</th>\n",
       "      <td>2023-04-18 13:15:00</td>\n",
       "      <td>0.000000</td>\n",
       "      <td>0.300631</td>\n",
       "      <td>0.189052</td>\n",
       "      <td>0.208203</td>\n",
       "    </tr>\n",
       "    <tr>\n",
       "      <th>496</th>\n",
       "      <td>2023-04-18 13:30:00</td>\n",
       "      <td>0.000000</td>\n",
       "      <td>0.231226</td>\n",
       "      <td>0.163816</td>\n",
       "      <td>0.208341</td>\n",
       "    </tr>\n",
       "    <tr>\n",
       "      <th>497</th>\n",
       "      <td>2023-04-18 13:45:00</td>\n",
       "      <td>0.000000</td>\n",
       "      <td>0.198295</td>\n",
       "      <td>0.145586</td>\n",
       "      <td>0.207367</td>\n",
       "    </tr>\n",
       "    <tr>\n",
       "      <th>498</th>\n",
       "      <td>2023-04-18 14:00:00</td>\n",
       "      <td>0.000000</td>\n",
       "      <td>0.642900</td>\n",
       "      <td>0.136002</td>\n",
       "      <td>0.208735</td>\n",
       "    </tr>\n",
       "    <tr>\n",
       "      <th>499</th>\n",
       "      <td>2023-04-18 14:15:00</td>\n",
       "      <td>0.000000</td>\n",
       "      <td>0.534748</td>\n",
       "      <td>0.136490</td>\n",
       "      <td>0.207202</td>\n",
       "    </tr>\n",
       "  </tbody>\n",
       "</table>\n",
       "</div>"
      ],
      "text/plain": [
       "              open_time   UpTrend  DownTrend  ExplosionLine  DeadZoneLine\n",
       "480 2023-04-18 09:30:00  0.139945   0.000000       0.211983      0.215006\n",
       "481 2023-04-18 09:45:00  0.058509   0.000000       0.169293      0.213892\n",
       "482 2023-04-18 10:00:00  0.000000   0.025786       0.162699      0.212234\n",
       "483 2023-04-18 10:15:00  0.131753   0.000000       0.147097      0.211185\n",
       "484 2023-04-18 10:30:00  0.036757   0.000000       0.137916      0.209998\n",
       "485 2023-04-18 10:45:00  0.000000   0.093950       0.123629      0.209082\n",
       "486 2023-04-18 11:00:00  0.093648   0.000000       0.117402      0.208434\n",
       "487 2023-04-18 11:15:00  0.143167   0.000000       0.126456      0.207645\n",
       "488 2023-04-18 11:30:00  0.442959   0.000000       0.154554      0.207678\n",
       "489 2023-04-18 11:45:00  0.385321   0.000000       0.179370      0.207784\n",
       "490 2023-04-18 12:00:00  0.013369   0.000000       0.184544      0.207852\n",
       "491 2023-04-18 12:15:00  0.139188   0.000000       0.196959      0.207882\n",
       "492 2023-04-18 12:30:00  0.000000   0.394291       0.195342      0.209097\n",
       "493 2023-04-18 12:45:00  0.000000   0.301063       0.195817      0.208375\n",
       "494 2023-04-18 13:00:00  0.000000   0.080057       0.199806      0.208400\n",
       "495 2023-04-18 13:15:00  0.000000   0.300631       0.189052      0.208203\n",
       "496 2023-04-18 13:30:00  0.000000   0.231226       0.163816      0.208341\n",
       "497 2023-04-18 13:45:00  0.000000   0.198295       0.145586      0.207367\n",
       "498 2023-04-18 14:00:00  0.000000   0.642900       0.136002      0.208735\n",
       "499 2023-04-18 14:15:00  0.000000   0.534748       0.136490      0.207202"
      ]
     },
     "execution_count": 17,
     "metadata": {},
     "output_type": "execute_result"
    },
    {
     "data": {
      "application/javascript": [
       "\n",
       "            setTimeout(function() {\n",
       "                var nbb_cell_id = 17;\n",
       "                var nbb_unformatted_code = \"res = pd.DataFrame(\\n    {\\n        \\\"open_time\\\": data[\\\"open_time\\\"],\\n        \\\"UpTrend\\\": trendUp,\\n        \\\"DownTrend\\\": trendDown,\\n        \\\"ExplosionLine\\\": e1,\\n        \\\"DeadZoneLine\\\": DEAD_ZONE,\\n    }\\n)\\nres.tail(20)\";\n",
       "                var nbb_formatted_code = \"res = pd.DataFrame(\\n    {\\n        \\\"open_time\\\": data[\\\"open_time\\\"],\\n        \\\"UpTrend\\\": trendUp,\\n        \\\"DownTrend\\\": trendDown,\\n        \\\"ExplosionLine\\\": e1,\\n        \\\"DeadZoneLine\\\": DEAD_ZONE,\\n    }\\n)\\nres.tail(20)\";\n",
       "                var nbb_cells = Jupyter.notebook.get_cells();\n",
       "                for (var i = 0; i < nbb_cells.length; ++i) {\n",
       "                    if (nbb_cells[i].input_prompt_number == nbb_cell_id) {\n",
       "                        if (nbb_cells[i].get_text() == nbb_unformatted_code) {\n",
       "                             nbb_cells[i].set_text(nbb_formatted_code);\n",
       "                        }\n",
       "                        break;\n",
       "                    }\n",
       "                }\n",
       "            }, 500);\n",
       "            "
      ],
      "text/plain": [
       "<IPython.core.display.Javascript object>"
      ]
     },
     "metadata": {},
     "output_type": "display_data"
    }
   ],
   "source": [
    "res = pd.DataFrame(\n",
    "    {\n",
    "        \"open_time\": data[\"open_time\"],\n",
    "        \"UpTrend\": trendUp,\n",
    "        \"DownTrend\": trendDown,\n",
    "        \"ExplosionLine\": e1,\n",
    "        \"DeadZoneLine\": DEAD_ZONE,\n",
    "    }\n",
    ")\n",
    "res.tail(20)"
   ]
  },
  {
   "cell_type": "code",
   "execution_count": null,
   "id": "preliminary-condition",
   "metadata": {},
   "outputs": [],
   "source": []
  }
 ],
 "metadata": {
  "kernelspec": {
   "display_name": "venv",
   "language": "python",
   "name": "venv"
  },
  "language_info": {
   "codemirror_mode": {
    "name": "ipython",
    "version": 3
   },
   "file_extension": ".py",
   "mimetype": "text/x-python",
   "name": "python",
   "nbconvert_exporter": "python",
   "pygments_lexer": "ipython3",
   "version": "3.6.13"
  }
 },
 "nbformat": 4,
 "nbformat_minor": 5
}
