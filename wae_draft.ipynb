{
 "cells": [
  {
   "cell_type": "markdown",
   "id": "canadian-clinic",
   "metadata": {},
   "source": [
    "## Waddah Attar Explosion V2 [SHK]"
   ]
  },
  {
   "cell_type": "markdown",
   "id": "lined-christian",
   "metadata": {},
   "source": [
    "<https://ru.tradingview.com/script/d9IjcYyS-Waddah-Attar-Explosion-V2-SHK/>"
   ]
  },
  {
   "cell_type": "markdown",
   "id": "balanced-amsterdam",
   "metadata": {},
   "source": [
    ">Developed by [@edyatl](https://github.com/edyatl) April 2023 <edyatl@yandex.ru>"
   ]
  },
  {
   "cell_type": "code",
   "execution_count": 1,
   "id": "thirty-extra",
   "metadata": {},
   "outputs": [
    {
     "data": {
      "application/javascript": [
       "\n",
       "            setTimeout(function() {\n",
       "                var nbb_cell_id = 1;\n",
       "                var nbb_unformatted_code = \"# Load Jupyter extension for auto correction coding style based on Black Lib\\n%load_ext nb_black\";\n",
       "                var nbb_formatted_code = \"# Load Jupyter extension for auto correction coding style based on Black Lib\\n%load_ext nb_black\";\n",
       "                var nbb_cells = Jupyter.notebook.get_cells();\n",
       "                for (var i = 0; i < nbb_cells.length; ++i) {\n",
       "                    if (nbb_cells[i].input_prompt_number == nbb_cell_id) {\n",
       "                        if (nbb_cells[i].get_text() == nbb_unformatted_code) {\n",
       "                             nbb_cells[i].set_text(nbb_formatted_code);\n",
       "                        }\n",
       "                        break;\n",
       "                    }\n",
       "                }\n",
       "            }, 500);\n",
       "            "
      ],
      "text/plain": [
       "<IPython.core.display.Javascript object>"
      ]
     },
     "metadata": {},
     "output_type": "display_data"
    }
   ],
   "source": [
    "# Load Jupyter extension for auto correction coding style based on Black Lib\n",
    "%load_ext nb_black"
   ]
  },
  {
   "cell_type": "markdown",
   "id": "radical-herald",
   "metadata": {},
   "source": [
    "### Original Indicator code\n",
    "\n",
    "```python\n",
    "//\n",
    "// @author LazyBear \n",
    "// List of all my indicators: \n",
    "// https://docs.google.com/document/d/15AGCufJZ8CIUvwFJ9W-IKns88gkWOKBCvByMEvm5MLo/edit?usp=sharing\n",
    "//\n",
    "\n",
    "// Modified for Crypto Market by ShayanKM\n",
    "\n",
    "study(\"Waddah Attar Explosion V2 [SHK]\", shorttitle=\"WAE [SHK]\")\n",
    "sensitivity = input(150, title=\"Sensitivity\")\n",
    "fastLength=input(20, title=\"FastEMA Length\")\n",
    "slowLength=input(40, title=\"SlowEMA Length\")\n",
    "channelLength=input(20, title=\"BB Channel Length\")\n",
    "mult=input(2.0, title=\"BB Stdev Multiplier\")\n",
    "\n",
    "DEAD_ZONE = nz(rma(tr(true),100)) * 3.7\n",
    "\n",
    "calc_macd(source, fastLength, slowLength) =>\n",
    "\tfastMA = ema(source, fastLength)\n",
    "\tslowMA = ema(source, slowLength)\n",
    "\tfastMA - slowMA\n",
    "\n",
    "calc_BBUpper(source, length, mult) => \n",
    "\tbasis = sma(source, length)\n",
    "\tdev = mult * stdev(source, length)\n",
    "\tbasis + dev\n",
    "\n",
    "calc_BBLower(source, length, mult) => \n",
    "\tbasis = sma(source, length)\n",
    "\tdev = mult * stdev(source, length)\n",
    "\tbasis - dev\n",
    "\n",
    "t1 = (calc_macd(close, fastLength, slowLength) - calc_macd(close[1], fastLength, slowLength))*sensitivity\n",
    "\n",
    "e1 = (calc_BBUpper(close, channelLength, mult) - calc_BBLower(close, channelLength, mult))\n",
    "\n",
    "trendUp = (t1 >= 0) ? t1 : 0\n",
    "trendDown = (t1 < 0) ? (-1*t1) : 0\n",
    "\n",
    "plot(trendUp, style=columns, linewidth=1, color=(trendUp<trendUp[1])?lime:green, transp=45, title=\"UpTrend\")\n",
    "plot(trendDown, style=columns, linewidth=1, color=(trendDown<trendDown[1])?orange:red, transp=45, title=\"DownTrend\")\n",
    "plot(e1, style=line, linewidth=2, color=#A0522D, title=\"ExplosionLine\")\n",
    "plot(DEAD_ZONE, color=blue, linewidth=1, style=cross, title=\"DeadZoneLine\")\n",
    "\n",
    "```"
   ]
  },
  {
   "cell_type": "code",
   "execution_count": null,
   "id": "sitting-harvey",
   "metadata": {},
   "outputs": [],
   "source": []
  }
 ],
 "metadata": {
  "kernelspec": {
   "display_name": "venv",
   "language": "python",
   "name": "venv"
  },
  "language_info": {
   "codemirror_mode": {
    "name": "ipython",
    "version": 3
   },
   "file_extension": ".py",
   "mimetype": "text/x-python",
   "name": "python",
   "nbconvert_exporter": "python",
   "pygments_lexer": "ipython3",
   "version": "3.6.13"
  }
 },
 "nbformat": 4,
 "nbformat_minor": 5
}
